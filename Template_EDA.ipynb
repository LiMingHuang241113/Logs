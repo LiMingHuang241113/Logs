{
 "cells": [
  {
   "cell_type": "markdown",
   "metadata": {},
   "source": [
    "TASK 1A: Exploratory Data Analysis with SQL (EDA)\n",
    "\n",
    "Task 1A.1: General overview of the data\n",
    "#count the total number of records in the encounter table\n",
    "\n",
    "#check the distribution of different admissions\\\n",
    "\n",
    "#explore the top discharge dispositions\n"
   ]
  },
  {
   "cell_type": "markdown",
   "metadata": {},
   "source": [
    "Task 1A.2: identifying missing or anomalous data\n",
    "#check for missing values in the race column (count the occurance of each uniqur value in this column)\n",
    "\n",
    "#check for missing or unusual values in the weight column"
   ]
  },
  {
   "cell_type": "markdown",
   "metadata": {},
   "source": [
    "Task 1A.3:understanding age distribution\n",
    "#explore the age distribution of the patients\n"
   ]
  },
  {
   "cell_type": "markdown",
   "metadata": {},
   "source": [
    "Task 1A.4: Admission trends by source and type\n",
    "#analyze how different admission source contribute to hospital admissions\n",
    "    #calculate the number of admissions per source  \n",
    "\n",
    "#Investigate which admission types correspond to specific admission sources\n",
    "    #Add admission type to your previous query\n"
   ]
  },
  {
   "cell_type": "markdown",
   "metadata": {},
   "source": [
    "Task 1A.5: hospital stay and readmission patterns\n",
    "#Find the average time in the hospital for each admission type\n",
    "\n",
    "#investigate readmission rates by admission type\n"
   ]
  },
  {
   "cell_type": "markdown",
   "metadata": {},
   "source": [
    "Task 1A.6: Comparing Admission types and outcomes\n",
    "#Compare discharge dispositions across different admission types\n",
    "\n",
    "#compare readmission rates by discharge disposition\n"
   ]
  },
  {
   "cell_type": "markdown",
   "metadata": {},
   "source": [
    "TASK 1B: EDA in python\n",
    "perform comprehensive exploratory data analysis to understand the dataset's characteristics. patterns, and potential challenges.\n",
    "it is crucial to understand the structure and quality of the dataset before diving into any analysis or modeling    "
   ]
  },
  {
   "cell_type": "markdown",
   "metadata": {},
   "source": [
    "Tasks 1B.1: loading and analysis the dataset shape\n",
    "Import \n",
    "#load the dataset\n",
    "#display first few rows\n",
    "#dataset shape\n",
    "#column names"
   ]
  },
  {
   "cell_type": "code",
   "execution_count": null,
   "metadata": {
    "vscode": {
     "languageId": "plaintext"
    }
   },
   "outputs": [],
   "source": [
    "1B.2: load and explore a dataset using numpy\n",
    "#load the dataset\n",
    "Data = np.genfromtxt()\n",
    "\n",
    "#check the shape of the dataset\n",
    "print(\"Dataset shape:\",)\n",
    "\n",
    "#preview the first few rows \n",
    "print(\"First 5 rows of the dataset:\\n\",)"
   ]
  },
  {
   "cell_type": "code",
   "execution_count": null,
   "metadata": {
    "vscode": {
     "languageId": "plaintext"
    }
   },
   "outputs": [],
   "source": [
    "1B.3: analysis data types\n",
    "#data types\n",
    "print(\"Data types:)\n",
    "\n",
    "#unique values in categorical columns\n",
    "print (f\"uniqie values in)"
   ]
  },
  {
   "cell_type": "code",
   "execution_count": null,
   "metadata": {
    "vscode": {
     "languageId": "plaintext"
    }
   },
   "outputs": [],
   "source": [
    "1B.4: exploratory data analysis (EDA) with visualisations\n",
    "import matplotlib\n",
    "import seaborn\n",
    "\n",
    "plt.show()"
   ]
  },
  {
   "cell_type": "code",
   "execution_count": null,
   "metadata": {
    "vscode": {
     "languageId": "plaintext"
    }
   },
   "outputs": [],
   "source": [
    "1B.5: identifying metadata from the dataset\n",
    "#metadata"
   ]
  },
  {
   "cell_type": "code",
   "execution_count": null,
   "metadata": {
    "vscode": {
     "languageId": "plaintext"
    }
   },
   "outputs": [],
   "source": [
    "1B.6: splitting data for analysis\n",
    "#split datase to train, test and validation set."
   ]
  }
 ],
 "metadata": {
  "language_info": {
   "name": "python"
  }
 },
 "nbformat": 4,
 "nbformat_minor": 2
}
