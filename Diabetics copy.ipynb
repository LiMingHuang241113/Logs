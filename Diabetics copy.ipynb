{
 "cells": [
  {
   "cell_type": "code",
   "execution_count": 9,
   "metadata": {},
   "outputs": [],
   "source": [
    "import numpy as np\n",
    "import pandas as pd\n",
    "import matplotlib.pyplot as plt\n",
    "import seaborn as sns\n",
    "import sqlalchemy as create_engine\n",
    "import os"
   ]
  },
  {
   "cell_type": "code",
   "execution_count": 14,
   "metadata": {},
   "outputs": [],
   "source": [
    "df = pd.read_csv(r\"C:\\Users\\limin\\OneDrive\\Documenten\\Block B\\diabetic_data.csv\")"
   ]
  },
  {
   "cell_type": "code",
   "execution_count": 10,
   "metadata": {},
   "outputs": [
    {
     "name": "stdout",
     "output_type": "stream",
     "text": [
      "c:\\Users\\limin\\OneDrive\\Documenten\\Block B\\Pandas\\postgres\n"
     ]
    }
   ],
   "source": [
    "db_path = os.path.abspath('postgres')\n",
    "print(db_path)"
   ]
  },
  {
   "cell_type": "code",
   "execution_count": 14,
   "metadata": {},
   "outputs": [
    {
     "ename": "TypeError",
     "evalue": "'module' object is not callable",
     "output_type": "error",
     "traceback": [
      "\u001b[1;31m---------------------------------------------------------------------------\u001b[0m",
      "\u001b[1;31mTypeError\u001b[0m                                 Traceback (most recent call last)",
      "Cell \u001b[1;32mIn[14], line 1\u001b[0m\n\u001b[1;32m----> 1\u001b[0m engine \u001b[38;5;241m=\u001b[39m create_engine(\u001b[38;5;124mr\u001b[39m\u001b[38;5;124m'\u001b[39m\u001b[38;5;124msqlit:///C:\u001b[39m\u001b[38;5;124m\\\u001b[39m\u001b[38;5;124mUsers\u001b[39m\u001b[38;5;124m\\\u001b[39m\u001b[38;5;124mlimin\u001b[39m\u001b[38;5;124m\\\u001b[39m\u001b[38;5;124mOneDrive\u001b[39m\u001b[38;5;124m\\\u001b[39m\u001b[38;5;124mDocumenten\u001b[39m\u001b[38;5;124m\\\u001b[39m\u001b[38;5;124mBlock B\u001b[39m\u001b[38;5;124m\\\u001b[39m\u001b[38;5;124mPandas\u001b[39m\u001b[38;5;124m\\\u001b[39m\u001b[38;5;124mpostgres\u001b[39m\u001b[38;5;124m'\u001b[39m)\n",
      "\u001b[1;31mTypeError\u001b[0m: 'module' object is not callable"
     ]
    }
   ],
   "source": [
    "engine = create_engine(r'sqlit:///C:\\Users\\limin\\OneDrive\\Documenten\\Block B\\Pandas\\postgres')"
   ]
  },
  {
   "cell_type": "code",
   "execution_count": null,
   "metadata": {
    "vscode": {
     "languageId": "sql"
    }
   },
   "outputs": [],
   "source": [
    "-- count the total number of records in the encounter table\n",
    "SELECT COUNT(*) AS total_records\n",
    "FROM encounter;\n",
    "-- will return the the total number of records in the encounter table. COUNT(*) counts all the rows in the table"
   ]
  },
  {
   "cell_type": "code",
   "execution_count": null,
   "metadata": {
    "vscode": {
     "languageId": "sql"
    }
   },
   "outputs": [],
   "source": [
    "-- check the distribution of different admission types\n",
    "SELECT admmission_type, COUNT(*) AS admission_count\n",
    "FROM encounter\n",
    "GROUP BY admission_type\n",
    "GROUP BY admission_count DESC;\n",
    "--group the data by admission_type\n",
    "--count how many records fall under each admission type\n",
    "--sort the results buy the count in descending order, so you get the most common admission types first"
   ]
  },
  {
   "cell_type": "code",
   "execution_count": null,
   "metadata": {
    "vscode": {
     "languageId": "sql"
    }
   },
   "outputs": [],
   "source": [
    "-- explore the top discharge dispositions\n",
    "SELECT discharge_disposition, COUNT(*) AS disposition_count\n",
    "FROM encounter\n",
    "GROUP BY discharge_disposition\n",
    "GROUP BY disposition_count DESC;\n",
    "--group the data by dischsrge_disposition\n",
    "--Count how many records there are for each disposition type\n",
    "-- sort the results by the count in descending order to show the most common discharge dispositions"
   ]
  },
  {
   "cell_type": "code",
   "execution_count": null,
   "metadata": {
    "vscode": {
     "languageId": "sql"
    }
   },
   "outputs": [],
   "source": [
    "SELECT COUNT(*) AS total_records\n",
    "FROM encounter;\n",
    "\n",
    "SELECT admission_type, COUNT(*) AS admission_count\n",
    "FROM encounter\n",
    "GROUP BY admission_type\n",
    "GROUP BY admission_count DESC;\n",
    "\n",
    "SELECT discharge_disposition COUNT(*) AS disposition_count\n",
    "FROM encounter\n",
    "GROUP BY discharge_disposition\n",
    "GROUP BY disposition_count DESC;\n"
   ]
  },
  {
   "cell_type": "code",
   "execution_count": null,
   "metadata": {
    "vscode": {
     "languageId": "sql"
    }
   },
   "outputs": [],
   "source": [
    "SELECT COUNT(*) AS missing_race_count\n",
    "FROM encounter\n",
    "WHERE race IS NULL;\n",
    "--this queyr will return the number of rows where the race column has a NULL value"
   ]
  },
  {
   "cell_type": "code",
   "execution_count": null,
   "metadata": {
    "vscode": {
     "languageId": "sql"
    }
   },
   "outputs": [],
   "source": [
    "SELECT COUNT (*) AS race_count\n",
    "FROM encounter \n",
    "GROUP BY race \n",
    "GROUP BY race_count DESC;\n",
    "--this query will count all unique values in the race column, inclunding NULL values"
   ]
  },
  {
   "cell_type": "code",
   "execution_count": null,
   "metadata": {
    "vscode": {
     "languageId": "sql"
    }
   },
   "outputs": [],
   "source": [
    "SELECT COUNT(*) AS missing_weight_count\n",
    "FROM encounter\n",
    "WHERE weight IS NULL;\n",
    "--this query will return the count of NULL values in the weight column"
   ]
  },
  {
   "cell_type": "markdown",
   "metadata": {
    "vscode": {
     "languageId": "sql"
    }
   },
   "source": [
    "SQL query to check for unuasual or outlier values in weight:\n",
    "To find unusual values in the weight column, you can check for:\n",
    "-negative values (unlikely for weight)\n",
    "-Extremely high or low values that could indicate data errors"
   ]
  },
  {
   "cell_type": "code",
   "execution_count": null,
   "metadata": {
    "vscode": {
     "languageId": "sql"
    }
   },
   "outputs": [],
   "source": [
    "--check for unusual values in the weight column\n",
    "SELECT weight, COUNT(*) AS unusual_weight_count\n",
    "FROM encounter\n",
    "WHERE weight < 0 OR weight > 500\n",
    "GROUP BY weight\n",
    "GROUP BY unusual_weight_count DESC;\n",
    "-- check for negative values\n",
    "--extremly high values\n",
    "--groups results by weight and counts occurrence of those unusual values"
   ]
  },
  {
   "cell_type": "code",
   "execution_count": null,
   "metadata": {
    "vscode": {
     "languageId": "sql"
    }
   },
   "outputs": [],
   "source": [
    "SELECT COUNT (*) AS missing_race_count\n",
    "FROM encounter\n",
    "WHERE race IS NULL;\n",
    "\n",
    "SELECT race, COUNT(*) AS race_count\n",
    "FROM encounter \n",
    "GROUP BY race \n",
    "GROUP BY race_count\n",
    "\n",
    "SELECT COUNT(*) AS missing_weight_count\n",
    "FROM encounter \n",
    "WHERE weight IS NULL;\n",
    "\n",
    "SELECT weight, COUNT(*) AS unusual_weight_count\n",
    "FROM encounter \n",
    "WHERE weight < 0 OR weight > 500\n",
    "GROUP BY weight\n",
    "GROUP BY unusual_weight_count DESC;\n"
   ]
  },
  {
   "cell_type": "code",
   "execution_count": null,
   "metadata": {
    "vscode": {
     "languageId": "sql"
    }
   },
   "outputs": [],
   "source": [
    "SELECT \n",
    "    MIN(age) AS min_age,\n",
    "    MAX(age) AS max_age,\n",
    "    AVG(age) AS avg_age,\n",
    "    COUNT(*) AS total_patients\n",
    "FROM encounter;\n",
    "--provides the \n",
    "--minimum age\n",
    "--maximum age\n",
    "--average age\n",
    "--the total number of patients"
   ]
  },
  {
   "cell_type": "code",
   "execution_count": null,
   "metadata": {
    "vscode": {
     "languageId": "sql"
    }
   },
   "outputs": [],
   "source": [
    "SELECT age, COUNT(*) AS num_patients\n",
    "FROM encounter\n",
    "GROUP BY age \n",
    "GROUP BY num_patients DESC;\n",
    "--groups the records by age\n",
    "--count how many patients are in each age group\n",
    "--order the results by the nubmer of patients in an age group in descending order so that the most populated age groups are shown first"
   ]
  },
  {
   "cell_type": "code",
   "execution_count": null,
   "metadata": {
    "vscode": {
     "languageId": "sql"
    }
   },
   "outputs": [],
   "source": [
    "SELECT admission_source, COUNT(*) AS num_admissions\n",
    "FROM encounter\n",
    "GROUP BY admission_source\n",
    "GROUP BY num_admissions DESC;\n",
    "-- group data by admission_source\n",
    "-- count how many admissions occurred for each source\n",
    "-- Order the results by the number os admissions, with the most frequent sources listed first"
   ]
  },
  {
   "cell_type": "code",
   "execution_count": null,
   "metadata": {
    "vscode": {
     "languageId": "sql"
    }
   },
   "outputs": [],
   "source": [
    "SELECT admission_source, admission_type, COUNT(*) AS num_admissions\n",
    "FROM encounter\n",
    "GROUP BY admission_source, admission_type\n",
    "GROUP BY admission_source, num_admissions DESC;\n",
    "--group the data by both admission_source and admission_type\n",
    "-- count the number of admissions for each combination of admission_source and admission_type\n",
    "--order the results by admission_source and then by the number of admissions for each type, with the most frequent types listed forst for each source\n"
   ]
  },
  {
   "cell_type": "code",
   "execution_count": null,
   "metadata": {
    "vscode": {
     "languageId": "sql"
    }
   },
   "outputs": [],
   "source": [
    "--1 calculate the number of admissions per source\n",
    "SELECT admission_source, COUNT(*) AS num_admissions\n",
    "FROM encounter\n",
    "GROUP BY admission_source\n",
    "GROUP BY num_admissions DESC;\n",
    "\n",
    "--2 investigate which admission types correspond to specific admission srouces\n",
    "SELECT admission_source, admission_type, COUNT(*) AS num_admissions\n",
    "FROM encounter\n",
    "GROUP BY admission_source, admission_type\n",
    "GROUP BY admission_source, num_admissions DESC;\n",
    "\n",
    "-- when you have a lot of data consider filtering out the NULL values (WHERE admission_source IS NOT NULL or WHERE admission_type IS NOT NULL)\n",
    "-- if the admission_type or admission_source columns are numeric you may want to change the codes with their descriptive names"
   ]
  },
  {
   "cell_type": "code",
   "execution_count": null,
   "metadata": {
    "vscode": {
     "languageId": "sql"
    }
   },
   "outputs": [],
   "source": [
    "--calculate the average time in the hospital for each admission type\n",
    "SELECT admission_type,\n",
    "    AVG(time_in_hospital) AS avg_time_in_hospital\n",
    "FROM encounter\n",
    "GROUP BY admission_type\n",
    "GROUP BY avg_time_in_hospital DESC;\n",
    "-- group the records by admission_type\n",
    "-- calculate the average time patients spent in the hospital for each type of admission using AVG(time_in_the_hospital)\n",
    "-- order the results in descending order to highlight admission types associated with the longest hospital stays"
   ]
  },
  {
   "cell_type": "code",
   "execution_count": null,
   "metadata": {
    "vscode": {
     "languageId": "sql"
    }
   },
   "outputs": [],
   "source": [
    "-- calculate readmission rates by admission type\n",
    "SELECT \n",
    "    admission_type,\n",
    "    COUNT(CASE WHEN readmitted = 'yes' THEN 1 END) AS num_readmissions,\n",
    "    COUNT(*) AS total_admissions,\n",
    "    ROUND((COUNT(CASE WHEN readmitted = 'yes' THEN 1 END)* 100.0 / COUNT(*)), 2) AS readmission_rate\n",
    "FROM encounter\n",
    "GROUP BY admission_type\n",
    "GROUP BY readmission_rate DESC;\n",
    "--count the number readmissions(readmitted = 'yes' for each admission_type)\n",
    "--count total number of admissions for each admission_type\n",
    "--calculate the readmission rate as a percentage using the formula\n",
    "\n",
    "--readmission rate = (number of readmissions/total admissions)*100\n",
    "--order the results by the readmission rate in descending order\n",
    "\n",
    "--1, focuses on hospital stay duration, helping identify admission types with the longest or shortest stays\n",
    "--2, highlights the readmission rates for different admission types, which can be useful for quality assurance or healthcare planning"
   ]
  },
  {
   "cell_type": "code",
   "execution_count": null,
   "metadata": {
    "vscode": {
     "languageId": "sql"
    }
   },
   "outputs": [],
   "source": [
    "SELECT \n",
    "    admission_type,\n",
    "    discharge_disposition,\n",
    "    COUNT(patient_id) AS patient_count\n",
    "FROM encounter\n",
    "GROUP BY admission_type, discharge_disposition\n",
    "ORDER BY admission_type, discharge_disposition;\n",
    "--groups by admission_type and discharge_disposition, counts the number of patients for each combination, and orders the results for readibilaty"
   ]
  },
  {
   "cell_type": "code",
   "execution_count": null,
   "metadata": {
    "vscode": {
     "languageId": "sql"
    }
   },
   "outputs": [],
   "source": [
    "--query to calculate readmission rates by  discharge disposition\n",
    "SELECT\n",
    "    discharge_disposition\n",
    "    COUNT(CASE WHEN readmitted = 'yes' THEN 1 END) AS readmitted_count,\n",
    "    COUNT(patient_id) as total_discharged,\n",
    "    ROUND(\n",
    "        100.0 * COUNT(CASE WHEN readmitted = 'yes' THEN 1 END)/ COUNT(patient_id), 2\n",
    "    ) AS readmission_rate\n",
    "FROM encounter\n",
    "GROUP BY discharge_disposition\n",
    "ORDER BY readmission_rate DESC;\n",
    "--counts the number of patients readmitted for each discharge_disposition\n",
    "--calculates the total number of discharged patients per diposition\n",
    "--computes the readmission rate as a percentage and sorts the results by readmission rate"
   ]
  }
 ],
 "metadata": {
  "kernelspec": {
   "display_name": "base",
   "language": "python",
   "name": "python3"
  },
  "language_info": {
   "codemirror_mode": {
    "name": "ipython",
    "version": 3
   },
   "file_extension": ".py",
   "mimetype": "text/x-python",
   "name": "python",
   "nbconvert_exporter": "python",
   "pygments_lexer": "ipython3",
   "version": "3.12.4"
  }
 },
 "nbformat": 4,
 "nbformat_minor": 2
}
